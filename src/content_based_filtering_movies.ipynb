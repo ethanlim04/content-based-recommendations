{
  "nbformat": 4,
  "nbformat_minor": 0,
  "metadata": {
    "colab": {
      "name": "content-based_filtering_movies.ipynb",
      "provenance": []
    },
    "kernelspec": {
      "name": "python3",
      "display_name": "Python 3"
    }
  },
  "cells": [
    {
      "cell_type": "code",
      "metadata": {
        "id": "rWMtuuUkdQBf",
        "colab_type": "code",
        "colab": {}
      },
      "source": [
        "#https://www.youtube.com/watch?v=9siFuMMHNIA\n",
        "import numpy as np\n",
        "import pandas as pd"
      ],
      "execution_count": 0,
      "outputs": []
    },
    {
      "cell_type": "code",
      "metadata": {
        "id": "bGpiM9gAi6Vs",
        "colab_type": "code",
        "outputId": "7925ab67-b5ce-49bf-b278-04c47db07d43",
        "colab": {
          "base_uri": "https://localhost:8080/",
          "height": 34
        }
      },
      "source": [
        "matrix = np.array([[5, 5, 0, 0], [5, None, None, 0], [None, 4, 0, None], [0, 0, 5, 4], [0, 0, 5, None]])\n",
        "\n",
        "n_u = 4 #4 users\n",
        "n_m = 5 #5 movies\n",
        "\n",
        "#movie_features = np.array([[0.9, 0], [1.0, 0.01], [0.99, 0], [0.1, 1.0], [0, 0.9]])\n",
        "movie_features = np.array([[1, 0.9, 0], [1, 1.0, 0.01], [1, 0.99, 0], [1, 0.1, 1.0], [1, 0, 0.9]], dtype=float)\n",
        "\n",
        "n = 2 #number of features\n",
        "\n",
        "theta = np.array([[2, 2, 2], [2, 2, 2], [2, 2, 2], [2, 2, 2]], dtype=float)\n",
        "\n",
        "print(theta[0].transpose().dot(movie_features[2]))  #prediction 1 (real value: 5)"
      ],
      "execution_count": 14,
      "outputs": [
        {
          "output_type": "stream",
          "text": [
            "3.98\n"
          ],
          "name": "stdout"
        }
      ]
    },
    {
      "cell_type": "code",
      "metadata": {
        "id": "joqmVae_mvKF",
        "colab_type": "code",
        "colab": {}
      },
      "source": [
        "#variables\n",
        "def r(matrix, i, j):\n",
        "  if(matrix[i][j] != None):\n",
        "    return 1\n",
        "  else:\n",
        "    return 0"
      ],
      "execution_count": 0,
      "outputs": []
    },
    {
      "cell_type": "code",
      "metadata": {
        "id": "3G8Wq-XGnDWM",
        "colab_type": "code",
        "colab": {}
      },
      "source": [
        "def loss(matrix, n_m, n_u):\n",
        "  total = 0\n",
        "  for i in range(n_m):\n",
        "    for j in range(n_u):\n",
        "      if(r(matrix, i, j) == 1):\n",
        "        total += (theta[j].transpose().dot(movie_features[i]) - matrix[i][j])**2\n",
        "  return (total)"
      ],
      "execution_count": 0,
      "outputs": []
    },
    {
      "cell_type": "code",
      "metadata": {
        "id": "Nx1d35b7pJE2",
        "colab_type": "code",
        "outputId": "e574f27e-4cec-4de2-e28d-a683dc33d7cf",
        "colab": {
          "base_uri": "https://localhost:8080/",
          "height": 85
        }
      },
      "source": [
        "def gradient_descent(matrix, theta, movie_features, n_m, n_u, k):\n",
        "  total = 0\n",
        "  for i in range(n_m):\n",
        "    for j in range(n_u):\n",
        "      if(r(matrix, i, j) == 1):\n",
        "        total += (theta[j].transpose().dot(movie_features[i]) - matrix[i][j])*movie_features[i][k]\n",
        "  return total\n",
        "learn_rate = 0.0001\n",
        "\n",
        "\n",
        "print(theta[0])\n",
        "\n",
        "tempOut = 0.00\n",
        "print(\"loss before: \", loss(matrix, n_m, n_u))\n",
        "\n",
        "for t in range(10):\n",
        "  theta[0][0] = float(theta[0][0]) - float(learn_rate * gradient_descent(matrix, theta, movie_features, n_m, n_u, 0))\n",
        "  theta[0][1] = float(theta[0][1]) -  float(learn_rate * gradient_descent(matrix, theta, movie_features, n_m, n_u, 1))\n",
        "  theta[0][2] = float(theta[0][2]) - float(learn_rate * gradient_descent(matrix, theta, movie_features, n_m, n_u, 2))\n",
        "\n",
        "  tempOut = tempOut - float(learn_rate * gradient_descent(matrix, theta, movie_features, n_m, n_u, 0))\n",
        "\n",
        "print(theta[0])\n",
        "print(\"loss after: \", loss(matrix, n_m, n_u))"
      ],
      "execution_count": 0,
      "outputs": [
        {
          "output_type": "stream",
          "text": [
            "[2.5 2.5 2.5]\n",
            "loss before:  198.14\n",
            "[2.45885979 2.47982234 2.47968554]\n",
            "loss after:  196.95045408320067\n"
          ],
          "name": "stdout"
        }
      ]
    },
    {
      "cell_type": "code",
      "metadata": {
        "id": "-PGL_fQRrhfl",
        "colab_type": "code",
        "outputId": "86487e76-f656-43bf-935f-1a9c505bd376",
        "colab": {
          "base_uri": "https://localhost:8080/",
          "height": 185
        }
      },
      "source": [
        "#Combine\n",
        "matrix = np.array([[5, 5, 0, 0], [5, None, None, 0], [None, 4, 0, None], [0, 0, 5, 4], [0, 0, 5, None]])\n",
        "\n",
        "n_u = 4 #4 users\n",
        "n_m = 5 #5 movies\n",
        "\n",
        "#movie_features = np.array([[0.9, 0], [1.0, 0.01], [0.99, 0], [0.1, 1.0], [0, 0.9]])\n",
        "movie_features = np.array([[1, 0.9, 0], [1, 1.0, 0.01], [1, 0.99, 0], [1, 0.1, 1.0], [1, 0, 0.9]], dtype=float)\n",
        "\n",
        "n = 2 #number of features\n",
        "\n",
        "theta = np.array([[2.5, 2.5, 2.5], [2, 2, 2], [2, 2, 2], [2, 2, 2]], dtype=float)\n",
        "\n",
        "print(theta[0].transpose().dot(movie_features[2]))  #prediction 1 (real value: 5)\n",
        "\n",
        "def totalLoss(matrix, n_m, n_u):\n",
        "  total = 0\n",
        "  for i in range(n_m):\n",
        "    for j in range(n_u):\n",
        "      if(r(matrix, i, j) == 1):\n",
        "        total += (theta[j].transpose().dot(movie_features[i]) - matrix[i][j])**2\n",
        "  return (total)\n",
        "\n",
        "def loss(matrix, n_m, j):\n",
        "  total = 0\n",
        "  for i in range(n_m):\n",
        "    if(r(matrix, i, j) == 1):\n",
        "      total += (theta[j].transpose().dot(movie_features[i]) - matrix[i][j])**2\n",
        "  return (total)\n",
        "\n",
        "\n",
        "def gradient_descent(j, matrix, theta, movie_features, n_m, n_u, k):\n",
        "  total = 0\n",
        "  for i in range(n_m):\n",
        "    if(r(matrix, i, j) == 1):\n",
        "      total += (theta[j].transpose().dot(movie_features[i]) - matrix[i][j])*movie_features[i][k]\n",
        "  return total\n",
        "learn_rate = 0.0001\n",
        "\n",
        "\n",
        "print(theta[0])\n",
        "\n",
        "tempOut = 0.00\n",
        "print(\"loss before: \", totalLoss(matrix, n_m, n_u))\n",
        "for j in range(n_u):\n",
        "  breakOut = False\n",
        "  for t in range(100000):\n",
        "    theta[j][0] = float(theta[j][0]) - float(learn_rate * gradient_descent(0, matrix, theta, movie_features, n_m, n_u, 0))\n",
        "    theta[j][1] = float(theta[j][1]) -  float(learn_rate * gradient_descent(0, matrix, theta, movie_features, n_m, n_u, 1))\n",
        "    theta[j][2] = float(theta[j][2]) - float(learn_rate * gradient_descent(0, matrix, theta, movie_features, n_m, n_u, 2))\n",
        "\n",
        "    if(t == 0):\n",
        "      minVal = loss(matrix, n_m, j)    \n",
        "    else:\n",
        "      currentVal = loss(matrix, n_m, j)\n",
        "      if(currentVal > minVal):\n",
        "        print(\"j:\", j, \"t:\", t)\n",
        "        print(\"\\tmin:\", minVal, \"current:\", currentVal)\n",
        "        break\n",
        "      else:\n",
        "        minVal = currentVal\n",
        "\n",
        "  print(theta[j])\n",
        "\n",
        "print(\"loss after: \", totalLoss(matrix, n_m, n_u))  #89.69"
      ],
      "execution_count": 0,
      "outputs": [
        {
          "output_type": "stream",
          "text": [
            "4.975\n",
            "[2.5 2.5 2.5]\n",
            "loss before:  146.70932499999998\n",
            "[ 1.02328529  4.18347893 -1.29695888]\n",
            "[2.1709244  1.82163245 1.82967682]\n",
            "j: 2 t: 1\n",
            "\tmin: 32.3604001919833 current: 32.36040038396675\n",
            "[2.00000342 1.99999643 1.99999659]\n",
            "[2.1709244  1.82163245 1.82967682]\n",
            "loss after:  96.60949978479799\n"
          ],
          "name": "stdout"
        }
      ]
    },
    {
      "cell_type": "code",
      "metadata": {
        "id": "6_e6zsDKyFGj",
        "colab_type": "code",
        "outputId": "232c3298-8526-42f8-9bf0-e53fd5ecb966",
        "colab": {
          "base_uri": "https://localhost:8080/",
          "height": 459
        }
      },
      "source": [
        "#Combine\n",
        "matrix = np.array([[5, 5, 0, 0], [5, None, None, 0], [None, 4, 0, None], [0, 0, 5, 4], [0, 0, 5, None]])\n",
        "\n",
        "n_u = 4 #4 users\n",
        "n_m = 5 #5 movies\n",
        "\n",
        "#movie_features = np.array([[0.9, 0], [1.0, 0.01], [0.99, 0], [0.1, 1.0], [0, 0.9]])\n",
        "movie_features = np.array([[1, 0.9, 0], [1, 1.0, 0.01], [1, 0.99, 0], [1, 0.1, 1.0], [1, 0, 0.9]], dtype=float)\n",
        "\n",
        "n = 2 #number of features\n",
        "\n",
        "theta = np.array([[2.5, 2.5, 2.5], [2.5, 2.5, 2.5], [2.5, 2.5, 2.5], [2.5, 2.5, 2.5]], dtype=float)\n",
        "\n",
        "print(theta[0].transpose().dot(movie_features[2]))  #prediction 1 (real value: 5)\n",
        "\n",
        "def totalLoss(matrix, theta, movie_features, n_m, n_u):\n",
        "  total = 0\n",
        "  for i in range(n_m):\n",
        "    for j in range(n_u):\n",
        "      if(r(matrix, i, j) == 1):\n",
        "        total += (theta[j].transpose().dot(movie_features[i]) - matrix[i][j])**2\n",
        "  return (total)\n",
        "\n",
        "def loss(matrix, theta, movie_features, n_m, j):\n",
        "  total = 0\n",
        "  for i in range(n_m):\n",
        "    if(r(matrix, i, j) == 1):\n",
        "      total += (theta[j].transpose().dot(movie_features[i]) - matrix[i][j])**2\n",
        "  return (total)\n",
        "\n",
        "\n",
        "def gradient_descent(j, matrix, theta, movie_features, n_m, n_u, k):\n",
        "  total = 0\n",
        "  for i in range(n_m):\n",
        "    if(r(matrix, i, j) == 1):\n",
        "      total += (theta[j].transpose().dot(movie_features[i]) - matrix[i][j])*movie_features[i][k]\n",
        "  return total\n",
        "learn_rate = 0.0001\n",
        "\n",
        "\n",
        "print(theta[0])\n",
        "\n",
        "tempOut = 0.00\n",
        "print(\"loss before: \", totalLoss(matrix, theta, movie_features, n_m, n_u))\n",
        "for j in range(n_u):\n",
        "  breakOut = False\n",
        "  t = 0\n",
        "  while(breakOut == False and t < 500000):\n",
        "    theta[j][0] = float(theta[j][0]) - float(learn_rate * gradient_descent(j, matrix, theta, movie_features, n_m, n_u, 0))\n",
        "    theta[j][1] = float(theta[j][1]) - float(learn_rate * gradient_descent(j, matrix, theta, movie_features, n_m, n_u, 1))\n",
        "    theta[j][2] = float(theta[j][2]) - float(learn_rate * gradient_descent(j, matrix, theta, movie_features, n_m, n_u, 2))\n",
        "\n",
        "    if(t == 0):\n",
        "      minVal = loss(matrix, theta, movie_features, n_m, j)\n",
        "    else:\n",
        "      currentVal = loss(matrix, theta, movie_features, n_m, j)\n",
        "      if(currentVal > minVal and t>1000):\n",
        "        print(\"j:\", j, \"t:\", t)\n",
        "        print(\"\\tmin:\", minVal, \"current:\", currentVal)\n",
        "        breakOut = True\n",
        "      else:\n",
        "        minVal = currentVal\n",
        "    t += 1\n",
        "  print(j, theta[j], minVal)\n",
        "\n",
        "print(\"loss after: \", totalLoss(matrix, theta, movie_features, n_m, n_u))  #89.69\n",
        "\n",
        "\n",
        "print(\"\\n\\n\\n\")\n",
        "for i in range(5):\n",
        "  print(matrix[i])\n",
        "print(\"\\n\\n\\n\")\n",
        "\n",
        "for i in range(n_m):\n",
        "  for j in range(n_u):\n",
        "    if(matrix[i][j] == None):\n",
        "      matrix[i][j] = round(theta[j].transpose().dot(movie_features[i]), 2)\n",
        "for i in range(5):\n",
        "  print(matrix[i])"
      ],
      "execution_count": 0,
      "outputs": [
        {
          "output_type": "stream",
          "text": [
            "4.975\n",
            "[2.5 2.5 2.5]\n",
            "loss before:  198.14\n",
            "0 [ 1.59871651  3.58286865 -1.87046307] 0.07241691654704834\n",
            "1 [ 1.95776048  2.66923296 -2.19125888] 0.7711954366224806\n",
            "2 [ 1.26735312 -1.34122711  3.99615959] 0.0425513939365714\n",
            "3 [ 0.40840046 -0.4488888   3.63637967] 3.638843702945191e-05\n",
            "loss after:  0.8862001355431298\n",
            "\n",
            "\n",
            "\n",
            "\n",
            "[5 5 0 0]\n",
            "[5 None None 0]\n",
            "[None 4 0 None]\n",
            "[0 0 5 4]\n",
            "[0 0 5 None]\n",
            "\n",
            "\n",
            "\n",
            "\n",
            "[5 5 0 0]\n",
            "[5 4.61 -0.03 0]\n",
            "[5.15 4 0 -0.04]\n",
            "[0 0 5 4]\n",
            "[0 0 5 3.68]\n"
          ],
          "name": "stdout"
        }
      ]
    },
    {
      "cell_type": "code",
      "metadata": {
        "id": "k5AT135VJCMA",
        "colab_type": "code",
        "outputId": "84d3cbed-9709-4463-b91a-2d361a517569",
        "colab": {
          "base_uri": "https://localhost:8080/",
          "height": 102
        }
      },
      "source": [
        "print(movie_features)"
      ],
      "execution_count": 0,
      "outputs": [
        {
          "output_type": "stream",
          "text": [
            "[[1.   0.9  0.  ]\n",
            " [1.   1.   0.01]\n",
            " [1.   0.99 0.  ]\n",
            " [1.   0.1  1.  ]\n",
            " [1.   0.   0.9 ]]\n"
          ],
          "name": "stdout"
        }
      ]
    }
  ]
}
