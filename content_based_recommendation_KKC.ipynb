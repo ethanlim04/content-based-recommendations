{
  "nbformat": 4,
  "nbformat_minor": 0,
  "metadata": {
    "colab": {
      "name": "content-based-recommendation-KKC.ipynb",
      "provenance": []
    },
    "kernelspec": {
      "name": "python3",
      "display_name": "Python 3"
    }
  },
  "cells": [
    {
      "cell_type": "code",
      "metadata": {
        "id": "5Xa_Ou_Cuw4R",
        "colab_type": "code",
        "colab": {}
      },
      "source": [
        "import numpy as np"
      ],
      "execution_count": 0,
      "outputs": []
    },
    {
      "cell_type": "code",
      "metadata": {
        "id": "560I5XKw9DjG",
        "colab_type": "code",
        "outputId": "366ddedc-1f09-41b0-b838-379b483a5a84",
        "colab": {
          "base_uri": "https://localhost:8080/",
          "height": 54
        }
      },
      "source": [
        "#temp = [[0, [25.0, 0, 0, 0], [25.0, 0], [0, 0, 25.0], [25.0, 0, 0]], [20.0, [20.0, 0, 0, 0], [20.0, 0], [0, 20.0, 0], [0, 20.0, 0]], [0, [0, 0, 0, 25.0], [0, 25.0], [25.0, 0, 0], [0, 25.0, 0]], [0, [0, 0, 25.0, 0], [0, 25.0], [25.0, 0, 0], [0, 25.0, 0]], [0, [25.0, 0, 0, 0], [25.0, 0], [0, 0, 25.0], [25.0, 0, 0]], [20.0, [20.0, 0, 0, 0], [20.0, 0], [0, 0, 20.0], [20.0, 0, 0]], [0, [25.0, 0, 0, 0], [25.0, 0], [0, 0, 25.0], [25.0, 0, 0]], [20.0, [0, 0, 0, 20.0], [20.0, 0], [0, 20.0, 0], [0, 0, 20.0]], [0, [25.0, 0, 0, 0], [0, 25.0], [25.0, 0, 0], [0, 25.0, 0]], [0, [25.0, 0, 0, 0], [0, 25.0], [25.0, 0, 0], [0, 25.0, 0]], [0, [25.0, 0, 0, 0], [0, 25.0], [25.0, 0, 0], [0, 25.0, 0]], [0, [0, 25.0, 0, 0], [0, 25.0], [25.0, 0, 0], [0, 25.0, 0]], [0, [0, 0, 25.0, 0], [0, 25.0], [25.0, 0, 0], [0, 25.0, 0]]]\n",
        "temp = [ [0, [0.25, 0, 0, 0], [0.25, 0], [0, 0, 0.25], [0.25, 0, 0]],\n",
        "         [0.2, [0.2, 0, 0, 0], [0.2, 0], [0, 0.2, 0], [0, 0.2, 0]],\n",
        "         [0, [0, 0, 0, 0.25], [0, 0.25], [0.25, 0, 0], [0, 0.25, 0]],\n",
        "         [0, [0, 0, 0.25, 0], [0, 0.25], [0.25, 0, 0], [0, 0.25, 0]],\n",
        "         [0, [0.25, 0, 0, 0], [0.25, 0], [0, 0, 0.25], [0.25, 0, 0]],\n",
        "         [0.2, [0.2, 0, 0, 0], [0.2, 0], [0, 0, 0.2], [0.2, 0, 0]],\n",
        "         [0, [0.25, 0, 0, 0], [0.25, 0], [0, 0, 0.25], [0.25, 0, 0]],\n",
        "         [0.2, [0, 0, 0, 0.2], [0.2, 0], [0, 0.2, 0], [0, 0, 0.2]],\n",
        "         [0, [0.25, 0, 0, 0], [0, 0.25], [0.25, 0, 0], [0, 0.25, 0]],\n",
        "         [0, [0.25, 0, 0, 0], [0, 0.25], [0.25, 0, 0], [0, 0.25, 0]],\n",
        "         [0, [0.25, 0, 0, 0], [0, 0.25], [0.25, 0, 0], [0, 0.25, 0]],\n",
        "         [0, [0, 0.25, 0, 0], [0, 0.25], [0.25, 0, 0], [0, 0.25, 0]],\n",
        "         [0, [0, 0, 0.25, 0], [0, 0.25], [0.25, 0, 0], [0, 0.25, 0]]]\n",
        "for i in range(len(temp)):\n",
        "  for q in range(4):\n",
        "    for j in range(len(temp[i])):\n",
        "      if(type(temp[i][j]) == list):\n",
        "        ttemp = temp[i][:j]\n",
        "        for k in range(len(temp[i][j])):\n",
        "          ttemp.append(temp[i][j][k])\n",
        "        temp[i] = ttemp + temp[i][j+1:]\n",
        "  temp[i].insert(0, 1)\n",
        "print(temp)"
      ],
      "execution_count": 0,
      "outputs": [
        {
          "output_type": "stream",
          "text": [
            "[[1, 0, 0.25, 0, 0, 0, 0.25, 0, 0, 0, 0.25, 0.25, 0, 0], [1, 0.2, 0.2, 0, 0, 0, 0.2, 0, 0, 0.2, 0, 0, 0.2, 0], [1, 0, 0, 0, 0, 0.25, 0, 0.25, 0.25, 0, 0, 0, 0.25, 0], [1, 0, 0, 0, 0.25, 0, 0, 0.25, 0.25, 0, 0, 0, 0.25, 0], [1, 0, 0.25, 0, 0, 0, 0.25, 0, 0, 0, 0.25, 0.25, 0, 0], [1, 0.2, 0.2, 0, 0, 0, 0.2, 0, 0, 0, 0.2, 0.2, 0, 0], [1, 0, 0.25, 0, 0, 0, 0.25, 0, 0, 0, 0.25, 0.25, 0, 0], [1, 0.2, 0, 0, 0, 0.2, 0.2, 0, 0, 0.2, 0, 0, 0, 0.2], [1, 0, 0.25, 0, 0, 0, 0, 0.25, 0.25, 0, 0, 0, 0.25, 0], [1, 0, 0.25, 0, 0, 0, 0, 0.25, 0.25, 0, 0, 0, 0.25, 0], [1, 0, 0.25, 0, 0, 0, 0, 0.25, 0.25, 0, 0, 0, 0.25, 0], [1, 0, 0, 0.25, 0, 0, 0, 0.25, 0.25, 0, 0, 0, 0.25, 0], [1, 0, 0, 0, 0.25, 0, 0, 0.25, 0.25, 0, 0, 0, 0.25, 0]]\n"
          ],
          "name": "stdout"
        }
      ]
    },
    {
      "cell_type": "code",
      "metadata": {
        "id": "0JgB21OFFB7j",
        "colab_type": "code",
        "outputId": "c232e442-5e08-4fd7-9ae0-c2dcf44851a2",
        "colab": {
          "base_uri": "https://localhost:8080/",
          "height": 605
        }
      },
      "source": [
        "features = np.array(temp, dtype=float)\n",
        "matrix = np.array([[10, 2], [6, 6], [2, 10], [4, 8], [10, 3], [10, None], [8, 2], [2, 2], [2, 10], [2, 8], [3, 8], [None, None], [3, 7]])\n",
        "expected = np.array([[10, 2], [6, 6], [2, 10], [4, 8], [10, 3], [10, 'low'], [8, 2], [2, 2], [2, 10], [2, 8], [3, 8], ['low', 'high'], [3, 7]])\n",
        "\n",
        "n_u = len(matrix[0])\n",
        "n_m = len(matrix)\n",
        "\n",
        "theta = []\n",
        "for i in range(n_u):\n",
        "  uTemp = [5 for j in range(len(features) + 1)]\n",
        "  theta.append(uTemp)\n",
        "\n",
        "theta = np.array(theta, dtype=float)\n",
        "\n",
        "def r(matrix, i, j):\n",
        "  if(matrix[i][j] == None):\n",
        "    return 0\n",
        "  else:\n",
        "    return 1\n",
        "\n",
        "def totalLoss(matrix, theta, features, n_m, n_u):\n",
        "  total = 0\n",
        "  for i in range(n_m):\n",
        "    for j in range(n_u):\n",
        "      if(r(matrix, i, j) == 1):\n",
        "        total += (theta[j].transpose().dot(features[i]) - matrix[i][j])**2\n",
        "  return total\n",
        "\n",
        "def loss(matrix, theta, features, n_m, j):\n",
        "  total = 0\n",
        "  for i in range(n_m):\n",
        "    if(r(matrix, i, j) == 1):\n",
        "      total += (theta[j].transpose().dot(features[i]) - matrix[i][j])**2\n",
        "  return total\n",
        "\n",
        "def gradient_descent(j, matrix, theta, features, n_m, n_u, k):\n",
        "  total = 0\n",
        "  for i in range(n_m):\n",
        "    if(r(matrix, i, j) == 1):\n",
        "      total += (theta[j].transpose().dot(features[i]) - matrix[i][j])*features[i][k]\n",
        "  return total\n",
        "\n",
        "learn_rate = 0.001\n",
        "print(\"loss before:\", totalLoss(matrix, theta, features, n_m, n_u))\n",
        "\n",
        "for j in range(n_u):\n",
        "  breakOut = False\n",
        "  t = 0\n",
        "  while(breakOut == False and t < 1000000):\n",
        "    for k in range(len(theta[0])):\n",
        "      theta[j][k] = float(theta[j][k]) - float(learn_rate * gradient_descent(j, matrix, theta, features, n_m, n_u, k))\n",
        "    \n",
        "    if(t == 0):\n",
        "      minVal = loss(matrix, theta, features, n_m, j)\n",
        "    else:\n",
        "      currentVal = loss(matrix, theta, features, n_m, j)\n",
        "      if(currentVal > minVal):\n",
        "        print(\"j:\", j, \"t:\", t)\n",
        "        breakOut = True\n",
        "      else:\n",
        "        minVal = currentVal\n",
        "    t += 1\n",
        "  print(\"j:\", j, \"minVal:\", minVal)\n",
        "  print(\"\\t\", j, \"loss:\", currentVal)\n",
        "\n",
        "print(\"loss after:\", totalLoss(matrix, theta, features, n_m, n_u))\n",
        "\n",
        "\n",
        "print(\"\\n\\n\\n\")\n",
        "for i in range(5):\n",
        "  print(matrix[i])\n",
        "print(\"\\n\\n\\n\")\n",
        "\n",
        "for i in range(n_m):\n",
        "  for j in range(n_u):\n",
        "    if(matrix[i][j] == None):\n",
        "      matrix[i][j] = round(theta[j].transpose().dot(features[i]), 2)\n",
        "\n",
        "for i in range(len(matrix)):\n",
        "  print(matrix[i], '\\t', expected[i])\n",
        "print('\\n\\n\\n')"
      ],
      "execution_count": 0,
      "outputs": [
        {
          "output_type": "stream",
          "text": [
            "loss before: 688.0\n",
            "j: 0 t: 579110\n",
            "j: 0 minVal: 3.8333333333702484\n",
            "\t 0 loss: 3.833333333370249\n",
            "j: 1 t: 594544\n",
            "j: 1 minVal: 3.8333333333519306\n",
            "\t 1 loss: 3.8333333333519315\n",
            "loss after: 7.66666666672218\n",
            "\n",
            "\n",
            "\n",
            "\n",
            "[10 2]\n",
            "[6 6]\n",
            "[2 10]\n",
            "[4 8]\n",
            "[10 3]\n",
            "\n",
            "\n",
            "\n",
            "\n",
            "[10 2]\n",
            "[6 6]\n",
            "[2 10]\n",
            "[4 8]\n",
            "[10 3]\n",
            "\n",
            "\n",
            "\n",
            "\n",
            "['10' '2']\n",
            "['6' '6']\n",
            "['2' '10']\n",
            "['4' '8']\n",
            "['10' '3']\n"
          ],
          "name": "stdout"
        }
      ]
    },
    {
      "cell_type": "code",
      "metadata": {
        "id": "o3K9HSvBml0h",
        "colab_type": "code",
        "outputId": "f18dd829-6424-4673-cbde-c2f24876e5c5",
        "colab": {
          "base_uri": "https://localhost:8080/",
          "height": 302
        }
      },
      "source": [
        "for i in range(len(matrix)):\n",
        "  print(matrix[i], '\\t', expected[i])\n",
        "print('\\n\\n\\n')"
      ],
      "execution_count": 0,
      "outputs": [
        {
          "output_type": "stream",
          "text": [
            "[10 2] \t ['10' '2']\n",
            "[6 6] \t ['6' '6']\n",
            "[2 10] \t ['2' '10']\n",
            "[4 8] \t ['4' '8']\n",
            "[10 3] \t ['10' '3']\n",
            "[10 2.58] \t ['10' 'low']\n",
            "[8 2] \t ['8' '2']\n",
            "[2 2] \t ['2' '2']\n",
            "[2 10] \t ['2' '10']\n",
            "[2 8] \t ['2' '8']\n",
            "[3 8] \t ['3' '8']\n",
            "[2.88 8.82] \t ['low' 'high']\n",
            "[3 7] \t ['3' '7']\n",
            "\n",
            "\n",
            "\n",
            "\n"
          ],
          "name": "stdout"
        }
      ]
    }
  ]
}